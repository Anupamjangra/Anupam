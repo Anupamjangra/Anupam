{
 "cells": [
  {
   "cell_type": "markdown",
   "id": "30857b1f-8f9d-4320-b060-c80cec01702b",
   "metadata": {},
   "source": [
    "# Section A "
   ]
  },
  {
   "cell_type": "code",
   "execution_count": null,
   "id": "e99cf712-a9ed-47a1-b790-82701a47bf4e",
   "metadata": {},
   "outputs": [],
   "source": [
    "# ques1.\n",
    "List :- it is a collection of data which is mutable.in this it is define by [].it is also hetrogines. Ex:-['a','b','c'].\n",
    "Tuple :- It is a collection of data which is imutable.in this it is define by ().it is also homogenus.Ex :-('a','b',1)."
   ]
  },
  {
   "cell_type": "code",
   "execution_count": null,
   "id": "3448db1b-1430-4e6c-8dae-58c98fa4c4e0",
   "metadata": {},
   "outputs": [],
   "source": [
    "# ques2.\n",
    "Input :- it means that it take the input from User.\n",
    "it return bydefault string datatype 'str'\n",
    "BUT to convert it into int we use \n",
    "----> typecast int(input)"
   ]
  },
  {
   "cell_type": "code",
   "execution_count": null,
   "id": "0e414e4f-60b8-409f-8fad-bc6dd075e2f8",
   "metadata": {},
   "outputs": [],
   "source": [
    "# ques3.\n",
    "it means that in this we have Key & values in which we store data. it is present in numpy lib.\n",
    "dict = '1':'Anupam'\n",
    "       '2':'Nakul'\n",
    "       '3':'Akul'"
   ]
  },
  {
   "cell_type": "code",
   "execution_count": 4,
   "id": "3927f837-6a45-43a6-9f7f-db9eb1076bff",
   "metadata": {},
   "outputs": [
    {
     "name": "stdout",
     "output_type": "stream",
     "text": [
      "1\n",
      "2\n",
      "3\n",
      "4\n",
      "5\n"
     ]
    }
   ],
   "source": [
    "# ques4.\n",
    "# It means that in this the loop continue till we don't break it or end it.In this we have to provide range.\n",
    "\n",
    "for i in range(1,6):\n",
    "    print(i)"
   ]
  },
  {
   "cell_type": "code",
   "execution_count": 5,
   "id": "a2a72e01-67e9-42f4-a49a-1841378fbcd1",
   "metadata": {},
   "outputs": [
    {
     "name": "stdout",
     "output_type": "stream",
     "text": [
      "It cant be divide\n",
      "this is .....\n"
     ]
    }
   ],
   "source": [
    "# ques5.\n",
    "# Exception HAndling :- It means that in this we handle the unwanted error that is occur in the executing program.\n",
    "\n",
    "# try:- it is to check that gives error.\n",
    "# except:- when error comes in try block it can handle it after that \n",
    "# finally:- it is in last or it execute always.\n",
    "\n",
    "try:\n",
    "    a = 5/0\n",
    "except:\n",
    "    print('It cant be divide')\n",
    "finally:\n",
    "    print('this is .....')\n"
   ]
  },
  {
   "cell_type": "code",
   "execution_count": 7,
   "id": "178e3f0b-dc7c-4bbb-8f98-335eb416b52b",
   "metadata": {},
   "outputs": [
    {
     "name": "stdout",
     "output_type": "stream",
     "text": [
      "25.0\n"
     ]
    }
   ],
   "source": [
    "# ques 6.\n",
    "# module :- it is a python file that contain similar functions or class.\n",
    "# ex:- math,random etc these are the predefined module.\n",
    "\n",
    "#MATH \n",
    "# import math : in this it will import all maths functions like:- sum,sub etc.\n",
    "#from math import sqrt : in this it only support square root functions \n",
    "from math import sqrt\n",
    "print(sqrt(625))"
   ]
  },
  {
   "cell_type": "code",
   "execution_count": 9,
   "id": "4912ed80-6484-4bf4-8f2f-31bf0502ec60",
   "metadata": {},
   "outputs": [
    {
     "name": "stdout",
     "output_type": "stream",
     "text": [
      "<bound method Car.Suv of <__main__.Car object at 0x000001A2BF23D550>>\n"
     ]
    }
   ],
   "source": [
    "# ques 7\n",
    "# It means that in support \n",
    "# class :- it is the main class inside it we describe class.\n",
    "# object :- in this we have to describe the more info about class.\n",
    "\n",
    "class Car:\n",
    "    def Suv():\n",
    "        print('Fortuner')\n",
    "    def brand():\n",
    "        print('Toyota')\n",
    "\n",
    "vehicle = Car()\n",
    "print(vehicle.Suv)"
   ]
  },
  {
   "cell_type": "code",
   "execution_count": 10,
   "id": "7aadb131-e1f1-4933-9aec-5a29696144fa",
   "metadata": {},
   "outputs": [],
   "source": [
    "# ques 8.\n",
    "# list comp. :- it means that in this we have to run the loop inside list. it is only of 1 line."
   ]
  },
  {
   "cell_type": "code",
   "execution_count": 14,
   "id": "82d9f6fb-c283-46c5-b925-9cc87c9470c7",
   "metadata": {},
   "outputs": [
    {
     "data": {
      "text/plain": [
       "314.2857142857143"
      ]
     },
     "execution_count": 14,
     "metadata": {},
     "output_type": "execute_result"
    }
   ],
   "source": [
    "# ques 9.\n",
    "def calculate_area(r):\n",
    "    pi = 22/7\n",
    "    area = pi*(r*r)\n",
    "    return area \n",
    "calculate_area(10)"
   ]
  },
  {
   "cell_type": "code",
   "execution_count": 18,
   "id": "5fee5a92-7e54-471d-8969-29552cb3a053",
   "metadata": {},
   "outputs": [
    {
     "name": "stdout",
     "output_type": "stream",
     "text": [
      "Hello Anupam Jangra,you are 20 years old\n"
     ]
    }
   ],
   "source": [
    "# ques 10.\n",
    "# program to create this is:\n",
    "\n",
    "def Hi(name,age):\n",
    "    print(f'Hello {name},you are {age} years old')\n",
    "\n",
    "\n",
    "Hi('Anupam Jangra',20)"
   ]
  },
  {
   "cell_type": "code",
   "execution_count": 34,
   "id": "fcd9122d-566c-41ca-b65d-378bdbf80c38",
   "metadata": {},
   "outputs": [
    {
     "name": "stdout",
     "output_type": "stream",
     "text": [
      "(1, 'Orange')\n",
      "(2, 'Kiwi')\n",
      "(3, 'Apple')\n",
      "(4, 'Grapes')\n",
      "(5, 'Mango')\n"
     ]
    }
   ],
   "source": [
    "# ques11.\n",
    "Fruits = ['Orange','Kiwi','Apple','Grapes','Mango']\n",
    "\n",
    "for i in enumerate(Fruits,1):\n",
    "    print(i)"
   ]
  },
  {
   "cell_type": "code",
   "execution_count": 24,
   "id": "7cd57579-e97e-4063-baa4-502b0511f1f4",
   "metadata": {},
   "outputs": [
    {
     "name": "stdout",
     "output_type": "stream",
     "text": [
      "F\n"
     ]
    }
   ],
   "source": [
    "# ques 12.\n",
    "def grade_calculator(score):\n",
    "    if score >=90:\n",
    "        print('A')\n",
    "    elif 89> score >=80:\n",
    "        print('B')\n",
    "    elif 79> score >=70:\n",
    "        print('C')\n",
    "    elif 69> score >=60:\n",
    "        print('D')\n",
    "    elif 60> score >=0:\n",
    "        print('F')\n",
    "\n",
    "grade_calculator(35)    \n",
    "    "
   ]
  },
  {
   "cell_type": "code",
   "execution_count": 25,
   "id": "5e13a1e2-42a3-4063-a79f-3be4f1fca574",
   "metadata": {},
   "outputs": [
    {
     "name": "stdout",
     "output_type": "stream",
     "text": [
      "A\n"
     ]
    }
   ],
   "source": [
    "grade_calculator(90)"
   ]
  },
  {
   "cell_type": "code",
   "execution_count": 26,
   "id": "219d783e-74f1-4622-a0a1-c87af5f32e6a",
   "metadata": {},
   "outputs": [
    {
     "name": "stdout",
     "output_type": "stream",
     "text": [
      "B\n"
     ]
    }
   ],
   "source": [
    "grade_calculator(85)"
   ]
  },
  {
   "cell_type": "code",
   "execution_count": null,
   "id": "883443d7-36e4-415d-9ae8-cc2834811574",
   "metadata": {},
   "outputs": [],
   "source": []
  }
 ],
 "metadata": {
  "kernelspec": {
   "display_name": "Python [conda env:base] *",
   "language": "python",
   "name": "conda-base-py"
  },
  "language_info": {
   "codemirror_mode": {
    "name": "ipython",
    "version": 3
   },
   "file_extension": ".py",
   "mimetype": "text/x-python",
   "name": "python",
   "nbconvert_exporter": "python",
   "pygments_lexer": "ipython3",
   "version": "3.13.5"
  }
 },
 "nbformat": 4,
 "nbformat_minor": 5
}
