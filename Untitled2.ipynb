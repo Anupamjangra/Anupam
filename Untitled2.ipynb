{
 "cells": [
  {
   "cell_type": "code",
   "execution_count": 10,
   "id": "5249d3a3-3718-4c1f-976e-f83fac4ce08c",
   "metadata": {},
   "outputs": [],
   "source": [
    "def check_palindrome(word):\n",
    "    return word \n"
   ]
  },
  {
   "cell_type": "code",
   "execution_count": 14,
   "id": "2b35efe5-7acf-4ec6-8709-5419aca50365",
   "metadata": {},
   "outputs": [
    {
     "data": {
      "text/plain": [
       "'Ajay'"
      ]
     },
     "execution_count": 14,
     "metadata": {},
     "output_type": "execute_result"
    }
   ],
   "source": [
    "check_palindrome('Ajay')"
   ]
  },
  {
   "cell_type": "code",
   "execution_count": 18,
   "id": "7b87f1db-4c75-45bc-b17b-e5d23fc31ef0",
   "metadata": {},
   "outputs": [
    {
     "data": {
      "text/plain": [
       "'ykcul'"
      ]
     },
     "execution_count": 18,
     "metadata": {},
     "output_type": "execute_result"
    }
   ],
   "source": [
    "a = 'lucky'\n",
    "a[::-1]"
   ]
  },
  {
   "cell_type": "code",
   "execution_count": 19,
   "id": "334a0a90-aca6-4f27-ae96-1f35dea3db6a",
   "metadata": {},
   "outputs": [
    {
     "name": "stdout",
     "output_type": "stream",
     "text": [
      "lucky is not a palimdrome\n"
     ]
    }
   ],
   "source": [
    "if a == a[::-1]:\n",
    "   print(f'{a} is a palindrome')\n",
    "else:\n",
    "   print(f'{a} is not a palimdrome') "
   ]
  },
  {
   "cell_type": "code",
   "execution_count": 27,
   "id": "aff65db6-55fd-45c3-ad55-2fb14e658725",
   "metadata": {},
   "outputs": [],
   "source": [
    "def check_palindfrome(word:str):\n",
    "    if type(word) == str:\n",
    "        word = word.upper()\n",
    "        if word == word[::-1]:\n",
    "            return 'Palindrome'\n",
    "        else:\n",
    "            return'Not a Palindrome'\n",
    "    else:\n",
    "        return 'Invalid Data Type'\n",
    "        "
   ]
  },
  {
   "cell_type": "code",
   "execution_count": 30,
   "id": "7dd979f2-28c6-4e77-92ff-6597415c7b80",
   "metadata": {},
   "outputs": [
    {
     "data": {
      "text/plain": [
       "'Not a Palindrome'"
      ]
     },
     "execution_count": 30,
     "metadata": {},
     "output_type": "execute_result"
    }
   ],
   "source": [
    "check_palindfrome('word')"
   ]
  },
  {
   "cell_type": "code",
   "execution_count": 24,
   "id": "b3d7ca3e-a0c6-4967-9d9b-abc65ddc875b",
   "metadata": {},
   "outputs": [
    {
     "name": "stdout",
     "output_type": "stream",
     "text": [
      "Mohan\n"
     ]
    }
   ],
   "source": [
    "a:int = 'Mohan'\n",
    "print(a)"
   ]
  },
  {
   "cell_type": "code",
   "execution_count": 39,
   "id": "beda3461-49d9-4b3d-b856-027ad91686c2",
   "metadata": {},
   "outputs": [],
   "source": [
    "def give_fibo(n):\n",
    "    fibo = [0,1]\n",
    "    for i in range (n-2):\n",
    "        last_num = fibo[-1]\n",
    "        second_last_num = fibo[-2]\n",
    "        next_num = last_num+second_last_num\n",
    "        fibo.append(next_num)\n",
    "    return fibo"
   ]
  },
  {
   "cell_type": "code",
   "execution_count": 38,
   "id": "7bfd3f4c-0c42-477a-bd5e-f6a77941d530",
   "metadata": {},
   "outputs": [
    {
     "name": "stdout",
     "output_type": "stream",
     "text": [
      "456\n",
      "368\n"
     ]
    }
   ],
   "source": [
    "data = [34,56,368,456]\n",
    "print(data[-1])\n",
    "print(data[-2])"
   ]
  },
  {
   "cell_type": "code",
   "execution_count": 40,
   "id": "22d223b5-ff64-4172-9247-3b84cfbd3225",
   "metadata": {},
   "outputs": [
    {
     "data": {
      "text/plain": [
       "[0, 1, 1, 2, 3, 5]"
      ]
     },
     "execution_count": 40,
     "metadata": {},
     "output_type": "execute_result"
    }
   ],
   "source": [
    "give_fibo(6)"
   ]
  },
  {
   "cell_type": "code",
   "execution_count": 45,
   "id": "6545ac91-4d8d-478e-a8d9-76d9a9bdafb6",
   "metadata": {},
   "outputs": [
    {
     "name": "stdout",
     "output_type": "stream",
     "text": [
      "[0, 1, 1, 2, 3, 5, 8, 13, 21, 34, 55, 89, 144, 233, 377, 610, 987, 1597, 2584, 4181, 6765, 10946, 17711, 28657, 46368]\n"
     ]
    }
   ],
   "source": [
    "print(give_fibo(25))"
   ]
  },
  {
   "cell_type": "code",
   "execution_count": 46,
   "id": "882c2662-960f-4283-8a54-90211ff70c4f",
   "metadata": {},
   "outputs": [
    {
     "data": {
      "text/plain": [
       "[2, 3, 4, 5, 6]"
      ]
     },
     "execution_count": 46,
     "metadata": {},
     "output_type": "execute_result"
    }
   ],
   "source": [
    "list(range(2,7))"
   ]
  },
  {
   "cell_type": "code",
   "execution_count": 69,
   "id": "74d6e3b3-4060-4acc-89a7-d04651fadf55",
   "metadata": {},
   "outputs": [],
   "source": [
    "def check_prime(n):\n",
    "    for i in range(2,n):\n",
    "        if n % i ==0:\n",
    "            print( 'Happy holi')\n",
    "            return 'Not a Prime Number'\n",
    "            break \n",
    "    else:\n",
    "        return 'Prime Number'"
   ]
  },
  {
   "cell_type": "code",
   "execution_count": 70,
   "id": "7c22db9d-0d73-407b-8438-8404f0d8a60e",
   "metadata": {},
   "outputs": [
    {
     "data": {
      "text/plain": [
       "'Prime Number'"
      ]
     },
     "execution_count": 70,
     "metadata": {},
     "output_type": "execute_result"
    }
   ],
   "source": [
    "check_prime(23)"
   ]
  },
  {
   "cell_type": "code",
   "execution_count": 71,
   "id": "d6d7fe2b-68fe-4aa3-8c57-17acd9b7604e",
   "metadata": {},
   "outputs": [
    {
     "name": "stdout",
     "output_type": "stream",
     "text": [
      "Happy holi\n"
     ]
    },
    {
     "data": {
      "text/plain": [
       "'Not a Prime Number'"
      ]
     },
     "execution_count": 71,
     "metadata": {},
     "output_type": "execute_result"
    }
   ],
   "source": [
    "check_prime(22)"
   ]
  },
  {
   "cell_type": "code",
   "execution_count": 80,
   "id": "8ebcbb31-2a0b-44e3-997a-76e1c61190c2",
   "metadata": {},
   "outputs": [
    {
     "name": "stdout",
     "output_type": "stream",
     "text": [
      "HelloHelloHelloHelloHello\n"
     ]
    }
   ],
   "source": [
    "n = 5.0\n",
    "print('Hello'*int(n))\n"
   ]
  },
  {
   "cell_type": "code",
   "execution_count": 84,
   "id": "df6bf44b-ddb5-40fa-a916-ed63a32e86bd",
   "metadata": {},
   "outputs": [
    {
     "name": "stdout",
     "output_type": "stream",
     "text": [
      "0\n",
      "1\n",
      "2\n",
      "3\n"
     ]
    }
   ],
   "source": [
    "n = 4\n",
    "for i in range(n):\n",
    "    print(i)"
   ]
  },
  {
   "cell_type": "code",
   "execution_count": 88,
   "id": "f6445975-e733-4805-9505-5e8d03f6ca11",
   "metadata": {},
   "outputs": [
    {
     "name": "stdout",
     "output_type": "stream",
     "text": [
      "*\n",
      "**\n",
      "***\n",
      "****\n",
      "*****\n",
      "******\n",
      "*******\n",
      "********\n",
      "*********\n"
     ]
    }
   ],
   "source": [
    "n = 9\n",
    "for i in range(1,n+1):\n",
    "    print(i* '*')"
   ]
  },
  {
   "cell_type": "code",
   "execution_count": 104,
   "id": "1371cda8-62b0-4009-b555-90e987a7e290",
   "metadata": {},
   "outputs": [
    {
     "name": "stdout",
     "output_type": "stream",
     "text": [
      "    * \n",
      "   * * \n",
      "  * * * \n",
      " * * * * \n",
      "* * * * * \n"
     ]
    }
   ],
   "source": [
    "n = 5\n",
    "\n",
    "for i in range(1,n+1):\n",
    "    print(' '*(n-i) + i*'* ')"
   ]
  },
  {
   "cell_type": "code",
   "execution_count": 105,
   "id": "68146da1-164f-4d52-afac-47e9c1d12a22",
   "metadata": {},
   "outputs": [],
   "source": [
    "def print_star(n=5,typ = 'left'):\n",
    "    for i in range(1,n+1):\n",
    "      print(' '*(n-i) + i*'* ')"
   ]
  },
  {
   "cell_type": "code",
   "execution_count": 106,
   "id": "43d6d45f-6bfa-431a-872f-96ebeeae9b23",
   "metadata": {},
   "outputs": [
    {
     "name": "stdout",
     "output_type": "stream",
     "text": [
      "  * \n",
      " * * \n",
      "* * * \n"
     ]
    }
   ],
   "source": [
    "print_star(3)"
   ]
  },
  {
   "cell_type": "code",
   "execution_count": 166,
   "id": "228a0ca8-ccee-4d57-a07f-ceafdcaeeac0",
   "metadata": {},
   "outputs": [],
   "source": [
    "def print_star(n=5,typ = 'right',shape = '*'):\n",
    "  if typ == 'left':\n",
    "    space = ''\n",
    "  elif typ == 'right':\n",
    "    space = '  '\n",
    "  elif typ == 'mid':\n",
    "    space = ' '\n",
    "    \n",
    "  for i in range(1,n+1):\n",
    "      print(space*(n-i) + i*f'{shape} ')"
   ]
  },
  {
   "cell_type": "code",
   "execution_count": 167,
   "id": "da27476c-9f8e-4c84-ad26-1c9127e5ee0d",
   "metadata": {},
   "outputs": [
    {
     "name": "stdout",
     "output_type": "stream",
     "text": [
      "            * \n",
      "          * * \n",
      "        * * * \n",
      "      * * * * \n",
      "    * * * * * \n",
      "  * * * * * * \n",
      "* * * * * * * \n"
     ]
    }
   ],
   "source": [
    "print_star(7,'right')"
   ]
  },
  {
   "cell_type": "code",
   "execution_count": 168,
   "id": "3b384d4c-b5e6-43d7-95a6-7a9029a27581",
   "metadata": {},
   "outputs": [
    {
     "name": "stdout",
     "output_type": "stream",
     "text": [
      "* \n",
      "* * \n",
      "* * * \n",
      "* * * * \n",
      "* * * * * \n"
     ]
    }
   ],
   "source": [
    "print_star(5,'left')"
   ]
  },
  {
   "cell_type": "code",
   "execution_count": 169,
   "id": "9f723632-0524-45d4-ba84-ab35561cdb14",
   "metadata": {},
   "outputs": [
    {
     "name": "stdout",
     "output_type": "stream",
     "text": [
      "    * \n",
      "   * * \n",
      "  * * * \n",
      " * * * * \n",
      "* * * * * \n"
     ]
    }
   ],
   "source": [
    "print_star(5,'mid')"
   ]
  },
  {
   "cell_type": "code",
   "execution_count": 176,
   "id": "61ac5432-cc21-45cb-9dc4-31a00b4ed9d1",
   "metadata": {},
   "outputs": [],
   "source": [
    "def sum_of_n_natural_numbers(n):\n",
    "    result  = 0\n",
    "    for i in range(1,n+1):\n",
    "        result += i \n",
    "    return result "
   ]
  },
  {
   "cell_type": "code",
   "execution_count": 177,
   "id": "367e0858-1678-4413-98c9-e4b912ffc404",
   "metadata": {},
   "outputs": [
    {
     "data": {
      "text/plain": [
       "55"
      ]
     },
     "execution_count": 177,
     "metadata": {},
     "output_type": "execute_result"
    }
   ],
   "source": [
    "sum_of_n_natural_numbers(10)"
   ]
  },
  {
   "cell_type": "code",
   "execution_count": 181,
   "id": "4144b3eb-c3e8-4871-9e9e-59e3ecf7a03d",
   "metadata": {},
   "outputs": [
    {
     "data": {
      "text/plain": [
       "55611"
      ]
     },
     "execution_count": 181,
     "metadata": {},
     "output_type": "execute_result"
    }
   ],
   "source": [
    "sum_of_n_natural_numbers(333) "
   ]
  },
  {
   "cell_type": "code",
   "execution_count": 184,
   "id": "facea596-fd83-4bd2-a774-da2e5786bf10",
   "metadata": {},
   "outputs": [],
   "source": [
    "def factorial(n):\n",
    "    result =1\n",
    "    for i in range(1,n+1):\n",
    "        result *= i\n",
    "    return result"
   ]
  },
  {
   "cell_type": "code",
   "execution_count": 186,
   "id": "4ac257c9-47c7-493d-b7ed-762f75fc1929",
   "metadata": {},
   "outputs": [
    {
     "data": {
      "text/plain": [
       "6"
      ]
     },
     "execution_count": 186,
     "metadata": {},
     "output_type": "execute_result"
    }
   ],
   "source": [
    "factorial(3)"
   ]
  },
  {
   "cell_type": "code",
   "execution_count": 194,
   "id": "9c3a8e91-d893-46c5-9589-b3c6925a2a52",
   "metadata": {},
   "outputs": [],
   "source": [
    "def total_sales(*args):\n",
    "    #unpacking\n",
    "    result = 0\n",
    "    for i in args:\n",
    "      result += i\n",
    "    return result\n"
   ]
  },
  {
   "cell_type": "code",
   "execution_count": 195,
   "id": "50b691be-7ae1-40fe-b73b-b02645e66631",
   "metadata": {},
   "outputs": [
    {
     "data": {
      "text/plain": [
       "188"
      ]
     },
     "execution_count": 195,
     "metadata": {},
     "output_type": "execute_result"
    }
   ],
   "source": [
    "total_sales(1,2,4,6,77,98)"
   ]
  },
  {
   "cell_type": "code",
   "execution_count": 196,
   "id": "47df508f-342e-459a-bb2f-9756b5b7454e",
   "metadata": {},
   "outputs": [
    {
     "data": {
      "text/plain": [
       "852"
      ]
     },
     "execution_count": 196,
     "metadata": {},
     "output_type": "execute_result"
    }
   ],
   "source": [
    "sales = [466,852,496,354,148,265,794,456,246]\n",
    "max(sales)"
   ]
  },
  {
   "cell_type": "code",
   "execution_count": 2,
   "id": "04d637ae-c729-49df-a389-88c0418ad24a",
   "metadata": {},
   "outputs": [],
   "source": [
    "def min_element(sales):\n",
    "    sales = [466,852,-6,354,-5,265,456,1]\n",
    "    min_element = sales[0]\n",
    "    for i in sales[1:]:\n",
    "        if i < min_element:\n",
    "            print(i)\n",
    "            min_element = i \n",
    "        # print(min_element)\n",
    "    "
   ]
  },
  {
   "cell_type": "code",
   "execution_count": 41,
   "id": "bce3dca4-466e-4191-a710-1cb687fbe2b0",
   "metadata": {},
   "outputs": [
    {
     "name": "stdout",
     "output_type": "stream",
     "text": [
      "990\n"
     ]
    }
   ],
   "source": [
    "sales = (6,852,496,354,990,265,794,456,26)\n",
    "max_element = sales[0]\n",
    "for i in sales[1:]:\n",
    "    if i > max_element:\n",
    "        max_element = i\n",
    "print(max_element)"
   ]
  },
  {
   "cell_type": "code",
   "execution_count": 42,
   "id": "fee079d3-eed5-4964-99d2-7611efe2b2bc",
   "metadata": {},
   "outputs": [],
   "source": [
    "#maxsales function\n",
    "def max_sales(sales):\n",
    "    max_element = sales[0]\n",
    "    for i in sales[1:]:\n",
    "        if i > max_element:\n",
    "            max_element = i\n",
    "    return(max_element)"
   ]
  },
  {
   "cell_type": "code",
   "execution_count": 44,
   "id": "06b20a18-0fbf-42a6-a58a-fc5ab0d11b79",
   "metadata": {},
   "outputs": [
    {
     "data": {
      "text/plain": [
       "990"
      ]
     },
     "execution_count": 44,
     "metadata": {},
     "output_type": "execute_result"
    }
   ],
   "source": [
    "max_sales(sales)"
   ]
  },
  {
   "cell_type": "code",
   "execution_count": 68,
   "id": "5b6afa5c-60d2-4233-86ce-fe19aaaa1930",
   "metadata": {},
   "outputs": [],
   "source": [
    "company = ['ola','','uber','rapido','blinkit','','tata','hi']\n",
    "#OLA,#UBER,#RAPIDO\n",
    "\n",
    "def add_hastag(company):\n",
    "    result = []\n",
    "    for i in company:\n",
    "      result.append('#'+i.upper())\n",
    "    return result"
   ]
  },
  {
   "cell_type": "code",
   "execution_count": 69,
   "id": "802dbb75-3d67-4f21-922e-0ca97bb965b1",
   "metadata": {},
   "outputs": [
    {
     "data": {
      "text/plain": [
       "['#OLA', '#', '#UBER', '#RAPIDO', '#BLINKIT', '#', '#TATA', '#HI']"
      ]
     },
     "execution_count": 69,
     "metadata": {},
     "output_type": "execute_result"
    }
   ],
   "source": [
    "add_hastag(company)"
   ]
  },
  {
   "cell_type": "code",
   "execution_count": 89,
   "id": "f701f6f4-3ff5-4843-99ba-f3cba8af16c2",
   "metadata": {},
   "outputs": [],
   "source": [
    "def store_records(name,age,sec,roll_no,Class):\n",
    "    data = {'Name':name,'Age':age,'Sec':sec,'Roll_no':roll_no,'Class':Class}\n",
    "    import pandas as pd\n",
    "    result = pd.DataFrame(data,index=[1])\n",
    "    return result"
   ]
  },
  {
   "cell_type": "code",
   "execution_count": 92,
   "id": "a45f900a-3353-4f22-a6b8-cf8da7d136ee",
   "metadata": {},
   "outputs": [
    {
     "data": {
      "text/html": [
       "<div>\n",
       "<style scoped>\n",
       "    .dataframe tbody tr th:only-of-type {\n",
       "        vertical-align: middle;\n",
       "    }\n",
       "\n",
       "    .dataframe tbody tr th {\n",
       "        vertical-align: top;\n",
       "    }\n",
       "\n",
       "    .dataframe thead th {\n",
       "        text-align: right;\n",
       "    }\n",
       "</style>\n",
       "<table border=\"1\" class=\"dataframe\">\n",
       "  <thead>\n",
       "    <tr style=\"text-align: right;\">\n",
       "      <th></th>\n",
       "      <th>Name</th>\n",
       "      <th>Age</th>\n",
       "      <th>Sec</th>\n",
       "      <th>Roll_no</th>\n",
       "      <th>Class</th>\n",
       "    </tr>\n",
       "  </thead>\n",
       "  <tbody>\n",
       "    <tr>\n",
       "      <th>1</th>\n",
       "      <td>Nakul</td>\n",
       "      <td>18</td>\n",
       "      <td>arts</td>\n",
       "      <td>15</td>\n",
       "      <td>12</td>\n",
       "    </tr>\n",
       "  </tbody>\n",
       "</table>\n",
       "</div>"
      ],
      "text/plain": [
       "    Name  Age   Sec  Roll_no  Class\n",
       "1  Nakul   18  arts       15     12"
      ]
     },
     "metadata": {},
     "output_type": "display_data"
    },
    {
     "data": {
      "text/html": [
       "<div>\n",
       "<style scoped>\n",
       "    .dataframe tbody tr th:only-of-type {\n",
       "        vertical-align: middle;\n",
       "    }\n",
       "\n",
       "    .dataframe tbody tr th {\n",
       "        vertical-align: top;\n",
       "    }\n",
       "\n",
       "    .dataframe thead th {\n",
       "        text-align: right;\n",
       "    }\n",
       "</style>\n",
       "<table border=\"1\" class=\"dataframe\">\n",
       "  <thead>\n",
       "    <tr style=\"text-align: right;\">\n",
       "      <th></th>\n",
       "      <th>Name</th>\n",
       "      <th>Age</th>\n",
       "      <th>Sec</th>\n",
       "      <th>Roll_no</th>\n",
       "      <th>Class</th>\n",
       "    </tr>\n",
       "  </thead>\n",
       "  <tbody>\n",
       "    <tr>\n",
       "      <th>1</th>\n",
       "      <td>Anupam</td>\n",
       "      <td>18</td>\n",
       "      <td>arts</td>\n",
       "      <td>14</td>\n",
       "      <td>11</td>\n",
       "    </tr>\n",
       "  </tbody>\n",
       "</table>\n",
       "</div>"
      ],
      "text/plain": [
       "     Name  Age   Sec  Roll_no  Class\n",
       "1  Anupam   18  arts       14     11"
      ]
     },
     "metadata": {},
     "output_type": "display_data"
    },
    {
     "data": {
      "text/html": [
       "<div>\n",
       "<style scoped>\n",
       "    .dataframe tbody tr th:only-of-type {\n",
       "        vertical-align: middle;\n",
       "    }\n",
       "\n",
       "    .dataframe tbody tr th {\n",
       "        vertical-align: top;\n",
       "    }\n",
       "\n",
       "    .dataframe thead th {\n",
       "        text-align: right;\n",
       "    }\n",
       "</style>\n",
       "<table border=\"1\" class=\"dataframe\">\n",
       "  <thead>\n",
       "    <tr style=\"text-align: right;\">\n",
       "      <th></th>\n",
       "      <th>Name</th>\n",
       "      <th>Age</th>\n",
       "      <th>Sec</th>\n",
       "      <th>Roll_no</th>\n",
       "      <th>Class</th>\n",
       "    </tr>\n",
       "  </thead>\n",
       "  <tbody>\n",
       "    <tr>\n",
       "      <th>1</th>\n",
       "      <td>Peeyush</td>\n",
       "      <td>18</td>\n",
       "      <td>arts</td>\n",
       "      <td>11</td>\n",
       "      <td>10</td>\n",
       "    </tr>\n",
       "  </tbody>\n",
       "</table>\n",
       "</div>"
      ],
      "text/plain": [
       "      Name  Age   Sec  Roll_no  Class\n",
       "1  Peeyush   18  arts       11     10"
      ]
     },
     "metadata": {},
     "output_type": "display_data"
    }
   ],
   "source": [
    "display(store_records('Nakul',18,'arts',15,12))\n",
    "display(store_records('Anupam',18,'arts',14,11))\n",
    "display(store_records('Peeyush',18,'arts',11,10))"
   ]
  },
  {
   "cell_type": "code",
   "execution_count": 109,
   "id": "64b3f495-1cc7-4408-87ee-5c0be554781c",
   "metadata": {},
   "outputs": [],
   "source": [
    "def students_records(**kwargs):#keyword arguments\n",
    "    print(kwargs)\n",
    "    import pandas as pd \n",
    "    results = pd.DataFrame(kwargs,index=[1])\n",
    "    return results "
   ]
  },
  {
   "cell_type": "code",
   "execution_count": 110,
   "id": "c0c53b8d-e494-42dd-9589-d006dfcbcc74",
   "metadata": {},
   "outputs": [
    {
     "name": "stdout",
     "output_type": "stream",
     "text": [
      "{'Name': 'Anupam Jangra', 'Age': 20, 'sec': 'E2', 'rol_no': 75, 'Address': 'Delhi'}\n"
     ]
    },
    {
     "data": {
      "text/html": [
       "<div>\n",
       "<style scoped>\n",
       "    .dataframe tbody tr th:only-of-type {\n",
       "        vertical-align: middle;\n",
       "    }\n",
       "\n",
       "    .dataframe tbody tr th {\n",
       "        vertical-align: top;\n",
       "    }\n",
       "\n",
       "    .dataframe thead th {\n",
       "        text-align: right;\n",
       "    }\n",
       "</style>\n",
       "<table border=\"1\" class=\"dataframe\">\n",
       "  <thead>\n",
       "    <tr style=\"text-align: right;\">\n",
       "      <th></th>\n",
       "      <th>Name</th>\n",
       "      <th>Age</th>\n",
       "      <th>sec</th>\n",
       "      <th>rol_no</th>\n",
       "      <th>Address</th>\n",
       "    </tr>\n",
       "  </thead>\n",
       "  <tbody>\n",
       "    <tr>\n",
       "      <th>1</th>\n",
       "      <td>Anupam Jangra</td>\n",
       "      <td>20</td>\n",
       "      <td>E2</td>\n",
       "      <td>75</td>\n",
       "      <td>Delhi</td>\n",
       "    </tr>\n",
       "  </tbody>\n",
       "</table>\n",
       "</div>"
      ],
      "text/plain": [
       "            Name  Age sec  rol_no Address\n",
       "1  Anupam Jangra   20  E2      75   Delhi"
      ]
     },
     "execution_count": 110,
     "metadata": {},
     "output_type": "execute_result"
    }
   ],
   "source": [
    "students_records(Name = 'Anupam Jangra',Age = 20,sec = 'E2',rol_no =75,Address = 'Delhi')"
   ]
  },
  {
   "cell_type": "code",
   "execution_count": null,
   "id": "8b62fb27-7b4d-460a-92d4-23dfb1ad417e",
   "metadata": {},
   "outputs": [],
   "source": []
  }
 ],
 "metadata": {
  "kernelspec": {
   "display_name": "Python [conda env:base] *",
   "language": "python",
   "name": "conda-base-py"
  },
  "language_info": {
   "codemirror_mode": {
    "name": "ipython",
    "version": 3
   },
   "file_extension": ".py",
   "mimetype": "text/x-python",
   "name": "python",
   "nbconvert_exporter": "python",
   "pygments_lexer": "ipython3",
   "version": "3.13.5"
  }
 },
 "nbformat": 4,
 "nbformat_minor": 5
}
