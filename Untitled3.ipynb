{
 "cells": [
  {
   "cell_type": "code",
   "execution_count": 5,
   "id": "889f8a36-ce2a-422b-a89a-4255d070fc6c",
   "metadata": {},
   "outputs": [
    {
     "name": "stdout",
     "output_type": "stream",
     "text": [
      "Can vote\n"
     ]
    }
   ],
   "source": [
    "# exception HAndling \n",
    "\n",
    "\n",
    "#print (1/0)\n",
    "age = 23\n",
    "try:\n",
    "    if age >=18:\n",
    "        print('Can vote')\n",
    "    else:\n",
    "        print('Cant vote')\n",
    "except TypeError:\n",
    "    print('Something went wrong!!')\n",
    "    print('Invalid datatype comparison!!')\n",
    "\n",
    "except:\n",
    "    print('Invalid Code!!')"
   ]
  },
  {
   "cell_type": "code",
   "execution_count": null,
   "id": "456cd4ba-ae6d-459e-88e4-cbd46ed71f5e",
   "metadata": {},
   "outputs": [],
   "source": [
    "def student_records(**kwargs):\n",
    "    import pandas as pd\n",
    "    try:\n",
    "       data = pd.DataFrame(kwargs)\n",
    "       return data \n",
    "    except:\n",
    "        data = pd.DataFrame(kwargs,index = [1])\n",
    "        return data\n",
    "    #try:\n",
    "    #    pass\n",
    "    #except:\n",
    "    #    print (ss)"
   ]
  },
  {
   "cell_type": "code",
   "execution_count": 33,
   "id": "26f2daee-0302-4c82-8a48-b6a0a6917670",
   "metadata": {},
   "outputs": [
    {
     "data": {
      "text/html": [
       "<div>\n",
       "<style scoped>\n",
       "    .dataframe tbody tr th:only-of-type {\n",
       "        vertical-align: middle;\n",
       "    }\n",
       "\n",
       "    .dataframe tbody tr th {\n",
       "        vertical-align: top;\n",
       "    }\n",
       "\n",
       "    .dataframe thead th {\n",
       "        text-align: right;\n",
       "    }\n",
       "</style>\n",
       "<table border=\"1\" class=\"dataframe\">\n",
       "  <thead>\n",
       "    <tr style=\"text-align: right;\">\n",
       "      <th></th>\n",
       "      <th>NAme</th>\n",
       "      <th>Age</th>\n",
       "      <th>Address</th>\n",
       "      <th>Sec</th>\n",
       "    </tr>\n",
       "  </thead>\n",
       "  <tbody>\n",
       "    <tr>\n",
       "      <th>0</th>\n",
       "      <td>Anupam</td>\n",
       "      <td>20</td>\n",
       "      <td>Rohtak</td>\n",
       "      <td>a</td>\n",
       "    </tr>\n",
       "    <tr>\n",
       "      <th>1</th>\n",
       "      <td>NAkul</td>\n",
       "      <td>22</td>\n",
       "      <td>Narela</td>\n",
       "      <td>b</td>\n",
       "    </tr>\n",
       "    <tr>\n",
       "      <th>2</th>\n",
       "      <td>Anjany</td>\n",
       "      <td>24</td>\n",
       "      <td>UP</td>\n",
       "      <td>c</td>\n",
       "    </tr>\n",
       "  </tbody>\n",
       "</table>\n",
       "</div>"
      ],
      "text/plain": [
       "     NAme  Age Address Sec\n",
       "0  Anupam   20  Rohtak   a\n",
       "1   NAkul   22  Narela   b\n",
       "2  Anjany   24      UP   c"
      ]
     },
     "execution_count": 33,
     "metadata": {},
     "output_type": "execute_result"
    }
   ],
   "source": [
    "student_records(NAme = ['Anupam','NAkul','Anjany'],\n",
    "                Age = [20,22,24],\n",
    "                Address = ['Rohtak','Narela','UP'],\n",
    "                Sec=list('abc'))"
   ]
  },
  {
   "cell_type": "code",
   "execution_count": 41,
   "id": "9697d2ab-a4b0-45f2-8d3b-9ce5c9febe97",
   "metadata": {},
   "outputs": [],
   "source": [
    "def show_time():\n",
    "    try:\n",
    "        while True:\n",
    "            import time\n",
    "            print(time.asctime())\n",
    "            time.sleep(1)\n",
    "            display(clear = True)\n",
    "    except:\n",
    "          print('Timer has been Stopped!!')"
   ]
  },
  {
   "cell_type": "code",
   "execution_count": 42,
   "id": "3b7808d9-f412-4a20-8275-a2e7efad9e04",
   "metadata": {},
   "outputs": [
    {
     "name": "stdout",
     "output_type": "stream",
     "text": [
      "Fri Jul  4 10:39:59 2025\n",
      "Timer has been Stopped!!\n"
     ]
    }
   ],
   "source": [
    "show_time()"
   ]
  },
  {
   "cell_type": "code",
   "execution_count": null,
   "id": "d50cde0d-76df-4ef9-9212-10916a2ccf96",
   "metadata": {},
   "outputs": [],
   "source": []
  },
  {
   "cell_type": "code",
   "execution_count": null,
   "id": "4240cce9-9cd8-49b9-89ee-03ab334e4408",
   "metadata": {},
   "outputs": [],
   "source": []
  },
  {
   "cell_type": "code",
   "execution_count": null,
   "id": "5efc055a-d12d-4f6d-a258-fb104cfd21f2",
   "metadata": {},
   "outputs": [],
   "source": []
  },
  {
   "cell_type": "code",
   "execution_count": null,
   "id": "b6dde0b9-e5bf-4ea7-83e2-2c5f99b976cc",
   "metadata": {},
   "outputs": [],
   "source": []
  },
  {
   "cell_type": "code",
   "execution_count": 9,
   "id": "18a36a50-63c9-45f6-b027-fdba959c2c9d",
   "metadata": {
    "scrolled": true
   },
   "outputs": [
    {
     "name": "stdout",
     "output_type": "stream",
     "text": [
      "Palindrome\n"
     ]
    }
   ],
   "source": [
    "import anupam as A\n",
    "print(A.check_palindfrome('nitin'))"
   ]
  },
  {
   "cell_type": "code",
   "execution_count": 8,
   "id": "3baf8248-a1ed-46f5-b5fe-5de60adcca4f",
   "metadata": {},
   "outputs": [],
   "source": [
    "import math as m"
   ]
  },
  {
   "cell_type": "code",
   "execution_count": 14,
   "id": "08ae288d-3e92-4aba-bb44-bfae5a1227ce",
   "metadata": {},
   "outputs": [
    {
     "name": "stdout",
     "output_type": "stream",
     "text": [
      "* \n",
      "* * \n",
      "* * * \n",
      "* * * * \n",
      "* * * * * \n",
      "* * * * * * \n",
      "* * * * * * * \n",
      "* * * * * * * * \n"
     ]
    }
   ],
   "source": [
    "import anupam as A\n",
    "A.print_star(n=8,typ='left')"
   ]
  },
  {
   "cell_type": "code",
   "execution_count": 12,
   "id": "bf56ac7c-10a5-4e98-9b66-720cca8f6608",
   "metadata": {},
   "outputs": [
    {
     "data": {
      "text/plain": [
       "3628800"
      ]
     },
     "execution_count": 12,
     "metadata": {},
     "output_type": "execute_result"
    }
   ],
   "source": [
    "A.factorial(10)"
   ]
  },
  {
   "cell_type": "code",
   "execution_count": 15,
   "id": "dedc99b5-f65c-4e3a-afce-ff545b6914bc",
   "metadata": {},
   "outputs": [
    {
     "data": {
      "text/plain": [
       "[0, 1, 1, 2, 3]"
      ]
     },
     "execution_count": 15,
     "metadata": {},
     "output_type": "execute_result"
    }
   ],
   "source": [
    "A.give_fibo(5)"
   ]
  },
  {
   "cell_type": "code",
   "execution_count": 16,
   "id": "595e4468-f771-4dbc-924e-855eed36b15c",
   "metadata": {},
   "outputs": [
    {
     "data": {
      "text/plain": [
       "120"
      ]
     },
     "execution_count": 16,
     "metadata": {},
     "output_type": "execute_result"
    }
   ],
   "source": [
    "A.sum_of_n_natural_numbers(15)"
   ]
  },
  {
   "cell_type": "code",
   "execution_count": 27,
   "id": "db42e704-0bd9-48a8-b5ca-6b4c80c61827",
   "metadata": {},
   "outputs": [],
   "source": [
    "A.sound_box(10)"
   ]
  },
  {
   "cell_type": "code",
   "execution_count": null,
   "id": "360107e4-fb83-41c1-afce-deeab60e62ab",
   "metadata": {},
   "outputs": [],
   "source": [
    "import anupam as A\n",
    "A.sound_box(30)"
   ]
  },
  {
   "cell_type": "code",
   "execution_count": null,
   "id": "68c48b5b-ebf5-47b7-a4b4-9fdba422b218",
   "metadata": {},
   "outputs": [],
   "source": []
  },
  {
   "cell_type": "code",
   "execution_count": 10,
   "id": "8e89c454-2011-4fda-9c16-57dd988f37bc",
   "metadata": {},
   "outputs": [
    {
     "name": "stdout",
     "output_type": "stream",
     "text": [
      "Done\n"
     ]
    }
   ],
   "source": [
    "from anupam import max_sales\n",
    "print('Done')"
   ]
  },
  {
   "cell_type": "code",
   "execution_count": null,
   "id": "654bf33a-a631-4fd5-8613-be5d8f47eb0d",
   "metadata": {},
   "outputs": [],
   "source": []
  },
  {
   "cell_type": "code",
   "execution_count": 8,
   "id": "7bdab5c4-c617-45b8-a97b-81990daf4550",
   "metadata": {},
   "outputs": [
    {
     "name": "stdout",
     "output_type": "stream",
     "text": [
      "done\n"
     ]
    }
   ],
   "source": [
    "from anupam import students_records\n",
    "print('done')"
   ]
  },
  {
   "cell_type": "code",
   "execution_count": 17,
   "id": "7f0b8344-9866-4f3d-9d44-a4a8fda42fc7",
   "metadata": {},
   "outputs": [
    {
     "name": "stdout",
     "output_type": "stream",
     "text": [
      "{'name': 'Anupam', 'age': 33}\n"
     ]
    },
    {
     "data": {
      "text/html": [
       "<div>\n",
       "<style scoped>\n",
       "    .dataframe tbody tr th:only-of-type {\n",
       "        vertical-align: middle;\n",
       "    }\n",
       "\n",
       "    .dataframe tbody tr th {\n",
       "        vertical-align: top;\n",
       "    }\n",
       "\n",
       "    .dataframe thead th {\n",
       "        text-align: right;\n",
       "    }\n",
       "</style>\n",
       "<table border=\"1\" class=\"dataframe\">\n",
       "  <thead>\n",
       "    <tr style=\"text-align: right;\">\n",
       "      <th></th>\n",
       "      <th>name</th>\n",
       "      <th>age</th>\n",
       "    </tr>\n",
       "  </thead>\n",
       "  <tbody>\n",
       "    <tr>\n",
       "      <th>1</th>\n",
       "      <td>Anupam</td>\n",
       "      <td>33</td>\n",
       "    </tr>\n",
       "  </tbody>\n",
       "</table>\n",
       "</div>"
      ],
      "text/plain": [
       "     name  age\n",
       "1  Anupam   33"
      ]
     },
     "execution_count": 17,
     "metadata": {},
     "output_type": "execute_result"
    }
   ],
   "source": [
    "students_records(name = 'Anupam',age = 33)"
   ]
  },
  {
   "cell_type": "code",
   "execution_count": 18,
   "id": "1193e745-3ae0-43d5-934a-185954d48b97",
   "metadata": {},
   "outputs": [
    {
     "name": "stdout",
     "output_type": "stream",
     "text": [
      "Done\n"
     ]
    }
   ],
   "source": [
    "from anupam import *\n",
    "print('Done')"
   ]
  },
  {
   "cell_type": "code",
   "execution_count": 16,
   "id": "2f43a195-333d-4530-9945-8e63f4c1ae14",
   "metadata": {},
   "outputs": [
    {
     "data": {
      "text/plain": [
       "1596"
      ]
     },
     "execution_count": 16,
     "metadata": {},
     "output_type": "execute_result"
    }
   ],
   "source": [
    "sum_of_n_natural_numbers(56)"
   ]
  },
  {
   "cell_type": "code",
   "execution_count": 20,
   "id": "dcdd096e-1a55-494e-96ef-99845ea84b96",
   "metadata": {},
   "outputs": [
    {
     "name": "stdout",
     "output_type": "stream",
     "text": [
      "Done\n"
     ]
    }
   ],
   "source": [
    "import turtle\n",
    "print('Done')"
   ]
  },
  {
   "cell_type": "code",
   "execution_count": 2,
   "id": "8046736e-bece-434b-8da8-fd9da903c910",
   "metadata": {},
   "outputs": [],
   "source": [
    "import turtle\n",
    "for i in range(180):\n",
    "    turtle.speed(0)\n",
    "    turtle.bgcolor('black')\n",
    "    col = ['red','blue','lime','cyan']\n",
    "    import random \n",
    "    picked_color = random.choice(col)\n",
    "    turtle.color(picked_color)\n",
    "    turtle.circle(100)\n",
    "    turtle.right(2)"
   ]
  },
  {
   "cell_type": "code",
   "execution_count": 1,
   "id": "05a9d038-147d-465f-84ff-35c6c2ce19f9",
   "metadata": {},
   "outputs": [],
   "source": [
    "import turtle \n",
    "for i in range(6):\n",
    "    turtle.bgcolor('black')\n",
    "    turtle.color('cyan')\n",
    "    turtle.forward(150)\n",
    "    turtle.left(60)"
   ]
  },
  {
   "cell_type": "code",
   "execution_count": 1,
   "id": "2c5f469f-280e-4255-aa9e-9122737dbda3",
   "metadata": {},
   "outputs": [],
   "source": [
    "import turtle \n",
    "for i in range(3):\n",
    "    turtle.bgcolor('black')\n",
    "    turtle.color('cyan')\n",
    "    turtle.forward(150)\n",
    "    turtle.right(120)"
   ]
  },
  {
   "cell_type": "code",
   "execution_count": 3,
   "id": "f908328f-0967-4252-9543-60473c6faa7d",
   "metadata": {},
   "outputs": [],
   "source": [
    "# File Handing \n",
    "# types of files\n",
    "#1:- Text File\n",
    "#.py,.html,.csv,.tsv,.css,.java,.js,.json,.js\n",
    "#2:- Binary File \n",
    "#.pdf,.mp3,.mp4,.png,.jpeg,.exe,.zip,.dat,.tar,.rar,.xlsx,.ppt,.doc,.ipynb"
   ]
  },
  {
   "cell_type": "code",
   "execution_count": 5,
   "id": "ec4782b9-e114-426f-825a-db62678cc4ab",
   "metadata": {},
   "outputs": [],
   "source": [
    "#handling:- read,write,copy,append,delete,open,close"
   ]
  },
  {
   "cell_type": "code",
   "execution_count": 6,
   "id": "8938b4f6-f135-4b9c-9366-69932f7cdb65",
   "metadata": {},
   "outputs": [],
   "source": [
    "# context manager "
   ]
  },
  {
   "cell_type": "code",
   "execution_count": 13,
   "id": "1aa27cf9-6089-4b6a-b863-4f9e1ab2c6b7",
   "metadata": {},
   "outputs": [
    {
     "name": "stdout",
     "output_type": "stream",
     "text": [
      "print('''This is Anupam Module in Python\n",
      "Info:https://www.google.com/''')\n",
      "\n",
      "\n",
      "def check_palindfrome(wor\n"
     ]
    }
   ],
   "source": [
    "file = open('anupam.py',mode = 'r')\n",
    "print(file.read(101))\n",
    "file.close()"
   ]
  },
  {
   "cell_type": "code",
   "execution_count": 14,
   "id": "05f4abe3-c2bb-4d71-b301-140de1d204b9",
   "metadata": {},
   "outputs": [
    {
     "name": "stdout",
     "output_type": "stream",
     "text": [
      "print('''This is Anupam Module in Python\n",
      "Info:https://www.google.com/''')\n",
      "\n",
      "\n",
      "def check_palindfrome(word:str):\n",
      "    if type(word) == str:\n",
      "        word = word.upper()\n",
      "        if word == word[::-1]:\n",
      "            return 'Palindrome'\n",
      "        else:\n",
      "            return'Not a Palindrome'\n",
      "    else:\n",
      "        return 'Invalid Data Type'\n",
      "\n",
      "\n",
      "def give_fibo(n):\n",
      "    fibo = [0,1]\n",
      "    for i in range (n-2):\n",
      "        last_num = fibo[-1]\n",
      "        second_last_num = fibo[-2]\n",
      "        next_num = last_num+second_last_num\n",
      "        fibo.append(next_num)\n",
      "    return fibo\n",
      "\n",
      "\n",
      "def check_prime(n):\n",
      "    for i in range(2,n):\n",
      "        if n % i ==0:\n",
      "            print( 'Happy holi')\n",
      "            return 'Not a Prime Number'\n",
      "            break \n",
      "    else:\n",
      "        return 'Prime Number'\n",
      "\n",
      "def print_star(n=5,typ = 'right',shape = '*'):\n",
      "  if typ == 'left':\n",
      "    space = ''\n",
      "  elif typ == 'right':\n",
      "    space = '  '\n",
      "  elif typ == 'mid':\n",
      "    space = ' '\n",
      "    \n",
      "  for i in range(1,n+1):\n",
      "      print(space*(n-i) + i*f'{shape} ')\n",
      "\n",
      "\n",
      "def sum_of_n_natural_numbers(n):\n",
      "    result  = 0\n",
      "    for i in range(1,n+1):\n",
      "        result += i \n",
      "    return result \n",
      "\n",
      "\n",
      "def factorial(n):\n",
      "    result =1\n",
      "    for i in range(1,n+1):\n",
      "        result *= i\n",
      "    return result\n",
      "\n",
      "\n",
      "def total_sales(*args):\n",
      "    #unpacking\n",
      "    result = 0\n",
      "    for i in args:\n",
      "      result += i\n",
      "    return result\n",
      "\n",
      "\n",
      "def min_element(sales):\n",
      "    sales = [466,852,-6,354,-5,265,456,1]\n",
      "    min_element = sales[0]\n",
      "    for i in sales[1:]:\n",
      "        if i < min_element:\n",
      "            print(i)\n",
      "            min_element = i \n",
      "        # print(min_element)\n",
      "\n",
      "\n",
      "#maxsales function\n",
      "def max_sales(sales):\n",
      "    max_element = sales[0]\n",
      "    for i in sales[1:]:\n",
      "        if i > max_element:\n",
      "            max_element = i\n",
      "    return(max_element)\n",
      "\n",
      "\n",
      "def store_records(name,age,sec,roll_no,Class):\n",
      "    data = {'Name':name,'Age':age,'Sec':sec,'Roll_no':roll_no,'Class':Class}\n",
      "    import pandas as pd\n",
      "    result = pd.DataFrame(data,index=[1])\n",
      "    return result\n",
      "\n",
      "def students_records(**kwargs):#keyword arguments\n",
      "    print(kwargs)\n",
      "    import pandas as pd \n",
      "    results = pd.DataFrame(kwargs,index=[1])\n",
      "    return results \n",
      "\n",
      "\n",
      "def sound_box(paisa,platform = 'Paytm'):\n",
      "    from gtts import gTTS \n",
      "    text =f'''{platform} par {paisa} rs Prapt hue.'''\n",
      "    audio = gTTS(text)\n",
      "    audio.save('paytm.mp3')\n",
      "\n",
      "    import pygame as p\n",
      "    p.init()\n",
      "    \n",
      "    music = p.mixer.Sound('paytm.mp3')\n",
      "    music.play()\n"
     ]
    }
   ],
   "source": [
    "file = open('anupam.py',mode = 'r')\n",
    "print(file.read())\n",
    "file.close()"
   ]
  },
  {
   "cell_type": "code",
   "execution_count": 16,
   "id": "c064c28e-b92e-4d12-91f7-1750ab73f2e8",
   "metadata": {},
   "outputs": [
    {
     "name": "stdout",
     "output_type": "stream",
     "text": [
      "2266186277792\n",
      "2266186277792\n",
      "2266186277792\n"
     ]
    }
   ],
   "source": [
    "a = 'ajay'\n",
    "b = 'ajay'\n",
    "C = 'ajay'\n",
    "print(id(a))\n",
    "print(id(b))\n",
    "print(id(C))"
   ]
  },
  {
   "cell_type": "code",
   "execution_count": 17,
   "id": "4def598f-b4cb-46ef-b276-062532f43c7a",
   "metadata": {},
   "outputs": [
    {
     "data": {
      "text/plain": [
       "True"
      ]
     },
     "execution_count": 17,
     "metadata": {},
     "output_type": "execute_result"
    }
   ],
   "source": [
    "a is b"
   ]
  },
  {
   "cell_type": "code",
   "execution_count": 18,
   "id": "3d7daeb5-8bc4-4b6d-9cac-c5e75be29c14",
   "metadata": {},
   "outputs": [
    {
     "data": {
      "text/plain": [
       "True"
      ]
     },
     "execution_count": 18,
     "metadata": {},
     "output_type": "execute_result"
    }
   ],
   "source": [
    "b is C"
   ]
  },
  {
   "cell_type": "code",
   "execution_count": 49,
   "id": "413f5a69-51f5-4b80-ac11-b0fe0eebeae2",
   "metadata": {},
   "outputs": [],
   "source": [
    "f =  open('anupam.py',mode = 'r')"
   ]
  },
  {
   "cell_type": "code",
   "execution_count": 54,
   "id": "d70388ce-6372-422c-9595-036b12f93952",
   "metadata": {},
   "outputs": [
    {
     "name": "stdout",
     "output_type": "stream",
     "text": [
      "def check_palindfrome(word:str):\n",
      "\n"
     ]
    }
   ],
   "source": [
    "print(f.readline())"
   ]
  },
  {
   "cell_type": "code",
   "execution_count": 55,
   "id": "a721b124-846a-4031-b7c4-df2a0740dd9c",
   "metadata": {},
   "outputs": [
    {
     "name": "stdout",
     "output_type": "stream",
     "text": [
      "Done\n"
     ]
    }
   ],
   "source": [
    "f.close()\n",
    "print('Done')"
   ]
  },
  {
   "cell_type": "code",
   "execution_count": 58,
   "id": "6519f3c0-d76c-41ff-8627-e9936210109e",
   "metadata": {},
   "outputs": [
    {
     "name": "stdout",
     "output_type": "stream",
     "text": [
      "def check_palindfrome(word:str):\n",
      "\n"
     ]
    }
   ],
   "source": [
    "f = open('anupam.py',mode = 'r')\n",
    "for i in range(10):\n",
    "    if i ==4:\n",
    "        print(f.readline())\n",
    "    else:\n",
    "        f.readline()"
   ]
  },
  {
   "cell_type": "code",
   "execution_count": 66,
   "id": "13217721-a02f-41e6-956b-8f20c4cae856",
   "metadata": {},
   "outputs": [
    {
     "name": "stdout",
     "output_type": "stream",
     "text": [
      "[\"print('''This is Anupam Module in Python\\n\", \"Info:https://www.google.com/''')\\n\", '\\n', '\\n', 'def check_palindfrome(word:str):\\n', '    if type(word) == str:\\n', '        word = word.upper()\\n', '        if word == word[::-1]:\\n', \"            return 'Palindrome'\\n\", '        else:\\n', \"            return'Not a Palindrome'\\n\", '    else:\\n', \"        return 'Invalid Data Type'\\n\", '\\n', '\\n', 'def give_fibo(n):\\n', '    fibo = [0,1]\\n', '    for i in range (n-2):\\n', '        last_num = fibo[-1]\\n', '        second_last_num = fibo[-2]\\n', '        next_num = last_num+second_last_num\\n', '        fibo.append(next_num)\\n', '    return fibo\\n', '\\n', '\\n', 'def check_prime(n):\\n', '    for i in range(2,n):\\n', '        if n % i ==0:\\n', \"            print( 'Happy holi')\\n\", \"            return 'Not a Prime Number'\\n\", '            break \\n', '    else:\\n', \"        return 'Prime Number'\\n\", '\\n', \"def print_star(n=5,typ = 'right',shape = '*'):\\n\", \"  if typ == 'left':\\n\", \"    space = ''\\n\", \"  elif typ == 'right':\\n\", \"    space = '  '\\n\", \"  elif typ == 'mid':\\n\", \"    space = ' '\\n\", '    \\n', '  for i in range(1,n+1):\\n', \"      print(space*(n-i) + i*f'{shape} ')\\n\", '\\n', '\\n', 'def sum_of_n_natural_numbers(n):\\n', '    result  = 0\\n', '    for i in range(1,n+1):\\n', '        result += i \\n', '    return result \\n', '\\n', '\\n', 'def factorial(n):\\n', '    result =1\\n', '    for i in range(1,n+1):\\n', '        result *= i\\n', '    return result\\n', '\\n', '\\n', 'def total_sales(*args):\\n', '    #unpacking\\n', '    result = 0\\n', '    for i in args:\\n', '      result += i\\n', '    return result\\n', '\\n', '\\n', 'def min_element(sales):\\n', '    sales = [466,852,-6,354,-5,265,456,1]\\n', '    min_element = sales[0]\\n', '    for i in sales[1:]:\\n', '        if i < min_element:\\n', '            print(i)\\n', '            min_element = i \\n', '        # print(min_element)\\n', '\\n', '\\n', '#maxsales function\\n', 'def max_sales(sales):\\n', '    max_element = sales[0]\\n', '    for i in sales[1:]:\\n', '        if i > max_element:\\n', '            max_element = i\\n', '    return(max_element)\\n', '\\n', '\\n', 'def store_records(name,age,sec,roll_no,Class):\\n', \"    data = {'Name':name,'Age':age,'Sec':sec,'Roll_no':roll_no,'Class':Class}\\n\", '    import pandas as pd\\n', '    result = pd.DataFrame(data,index=[1])\\n', '    return result\\n', '\\n', 'def students_records(**kwargs):#keyword arguments\\n', '    print(kwargs)\\n', '    import pandas as pd \\n', '    results = pd.DataFrame(kwargs,index=[1])\\n', '    return results \\n', '\\n', '\\n', \"def sound_box(paisa,platform = 'Paytm'):\\n\", '    from gtts import gTTS \\n', \"    text =f'''{platform} par {paisa} rs Prapt hue.'''\\n\", '    audio = gTTS(text)\\n', \"    audio.save('paytm.mp3')\\n\", '\\n', '    import pygame as p\\n', '    p.init()\\n', '    \\n', \"    music = p.mixer.Sound('paytm.mp3')\\n\", '    music.play()']\n",
      "Done\n"
     ]
    }
   ],
   "source": [
    "f = open('anupam.py',mode = 'r')\n",
    "\n",
    "data = f.readlines()\n",
    "print(data)\n",
    "f.close()\n",
    "print('Done')\n"
   ]
  },
  {
   "cell_type": "code",
   "execution_count": 67,
   "id": "fe8fb313-a4fa-49fc-9eac-805013412ab4",
   "metadata": {},
   "outputs": [
    {
     "name": "stdout",
     "output_type": "stream",
     "text": [
      "            return'Not a Palindrome'\n",
      "\n"
     ]
    }
   ],
   "source": [
    "print(data[10])"
   ]
  },
  {
   "cell_type": "code",
   "execution_count": 69,
   "id": "ecf37308-2c76-421c-bf25-954d332daefc",
   "metadata": {},
   "outputs": [
    {
     "name": "stdout",
     "output_type": "stream",
     "text": [
      "['    if type(word) == str:\\n', '        word = word.upper()\\n', '        if word == word[::-1]:\\n', \"            return 'Palindrome'\\n\", '        else:\\n', \"            return'Not a Palindrome'\\n\", '    else:\\n', \"        return 'Invalid Data Type'\\n\", '\\n', '\\n', 'def give_fibo(n):\\n', '    fibo = [0,1]\\n', '    for i in range (n-2):\\n', '        last_num = fibo[-1]\\n', '        second_last_num = fibo[-2]\\n', '        next_num = last_num+second_last_num\\n', '        fibo.append(next_num)\\n', '    return fibo\\n', '\\n', '\\n', 'def check_prime(n):\\n', '    for i in range(2,n):\\n', '        if n % i ==0:\\n', \"            print( 'Happy holi')\\n\", \"            return 'Not a Prime Number'\\n\", '            break \\n', '    else:\\n', \"        return 'Prime Number'\\n\", '\\n', \"def print_star(n=5,typ = 'right',shape = '*'):\\n\"]\n"
     ]
    }
   ],
   "source": [
    "print(data[5:35])"
   ]
  },
  {
   "cell_type": "code",
   "execution_count": 70,
   "id": "7f580d70-f305-4c0e-9e16-d38192ce7e5e",
   "metadata": {},
   "outputs": [
    {
     "name": "stdout",
     "output_type": "stream",
     "text": [
      "print('''This is Anupam Module in Python\n",
      "\n",
      "Info:https://www.google.com/''')\n",
      "\n",
      "\n",
      "\n",
      "\n",
      "\n",
      "def check_palindfrome(word:str):\n",
      "\n",
      "    if type(word) == str:\n",
      "\n",
      "        word = word.upper()\n",
      "\n",
      "        if word == word[::-1]:\n",
      "\n",
      "            return 'Palindrome'\n",
      "\n",
      "        else:\n",
      "\n",
      "            return'Not a Palindrome'\n",
      "\n",
      "    else:\n",
      "\n",
      "        return 'Invalid Data Type'\n",
      "\n",
      "\n",
      "\n",
      "\n",
      "\n",
      "def give_fibo(n):\n",
      "\n"
     ]
    }
   ],
   "source": [
    "for i in data[:16]:\n",
    "    print(i)"
   ]
  },
  {
   "cell_type": "code",
   "execution_count": null,
   "id": "fe9bb75f-5726-49f0-8f19-c18922555d40",
   "metadata": {},
   "outputs": [],
   "source": []
  }
 ],
 "metadata": {
  "kernelspec": {
   "display_name": "Python [conda env:base] *",
   "language": "python",
   "name": "conda-base-py"
  },
  "language_info": {
   "codemirror_mode": {
    "name": "ipython",
    "version": 3
   },
   "file_extension": ".py",
   "mimetype": "text/x-python",
   "name": "python",
   "nbconvert_exporter": "python",
   "pygments_lexer": "ipython3",
   "version": "3.13.5"
  }
 },
 "nbformat": 4,
 "nbformat_minor": 5
}
